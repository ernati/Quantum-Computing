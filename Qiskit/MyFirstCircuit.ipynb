{
 "cells": [
  {
   "cell_type": "code",
   "execution_count": 1,
   "metadata": {},
   "outputs": [
    {
     "name": "stdout",
     "output_type": "stream",
     "text": [
      "Package              Version\n",
      "-------------------- -----------\n",
      "asttokens            2.4.1\n",
      "certifi              2024.8.30\n",
      "cffi                 1.17.1\n",
      "charset-normalizer   3.4.0\n",
      "colorama             0.4.6\n",
      "comm                 0.2.2\n",
      "contourpy            1.3.0\n",
      "cryptography         44.0.0\n",
      "cycler               0.12.1\n",
      "debugpy              1.8.9\n",
      "decorator            5.1.1\n",
      "dill                 0.3.9\n",
      "exceptiongroup       1.2.2\n",
      "executing            2.1.0\n",
      "fonttools            4.55.0\n",
      "idna                 3.10\n",
      "importlib_metadata   8.5.0\n",
      "importlib_resources  6.4.5\n",
      "ipykernel            6.29.5\n",
      "ipython              8.18.1\n",
      "ipywidgets           8.1.5\n",
      "jedi                 0.19.2\n",
      "jupyter_client       8.6.3\n",
      "jupyter_core         5.7.2\n",
      "jupyterlab_widgets   3.0.13\n",
      "kiwisolver           1.4.7\n",
      "matplotlib           3.9.2\n",
      "matplotlib-inline    0.1.7\n",
      "mpmath               1.3.0\n",
      "nest_asyncio         1.6.0\n",
      "ntlm-auth            1.5.0\n",
      "numpy                1.23.5\n",
      "packaging            24.2\n",
      "pandas               2.2.3\n",
      "parso                0.8.4\n",
      "pbr                  6.1.0\n",
      "pickleshare          0.7.5\n",
      "pillow               11.0.0\n",
      "pip                  24.2\n",
      "platformdirs         4.3.6\n",
      "ply                  3.11\n",
      "prompt_toolkit       3.0.48\n",
      "psutil               6.1.0\n",
      "pure_eval            0.2.3\n",
      "pycparser            2.22\n",
      "pydot                3.0.2\n",
      "Pygments             2.18.0\n",
      "pylatexenc           2.10\n",
      "pyparsing            3.2.0\n",
      "python-dateutil      2.9.0.post0\n",
      "pytz                 2024.2\n",
      "pywin32              307\n",
      "pyzmq                26.2.0\n",
      "qiskit               0.45.0\n",
      "qiskit-ibmq-provider 0.20.2\n",
      "qiskit-terra         0.45.0\n",
      "requests             2.32.3\n",
      "requests-ntlm        1.1.0\n",
      "rustworkx            0.15.1\n",
      "scipy                1.13.1\n",
      "seaborn              0.13.2\n",
      "setuptools           75.1.0\n",
      "six                  1.16.0\n",
      "stack-data           0.6.2\n",
      "stevedore            5.4.0\n",
      "sympy                1.13.3\n",
      "tornado              6.4.2\n",
      "traitlets            5.14.3\n",
      "typing_extensions    4.12.2\n",
      "tzdata               2024.2\n",
      "urllib3              2.2.3\n",
      "wcwidth              0.2.13\n",
      "websocket-client     1.8.0\n",
      "websockets           14.1\n",
      "wheel                0.44.0\n",
      "widgetsnbextension   4.0.13\n",
      "zipp                 3.21.0\n"
     ]
    }
   ],
   "source": [
    "!pip list"
   ]
  },
  {
   "cell_type": "code",
   "execution_count": 1,
   "metadata": {},
   "outputs": [],
   "source": [
    "from qiskit import QuantumCircuit"
   ]
  },
  {
   "cell_type": "code",
   "execution_count": 3,
   "metadata": {},
   "outputs": [],
   "source": [
    "circ = QuantumCircuit(8,8)"
   ]
  },
  {
   "cell_type": "code",
   "execution_count": 4,
   "metadata": {},
   "outputs": [],
   "source": [
    "for i in range(8):\n",
    "    circ.measure(i,i)"
   ]
  },
  {
   "cell_type": "code",
   "execution_count": 5,
   "metadata": {},
   "outputs": [
    {
     "name": "stderr",
     "output_type": "stream",
     "text": [
      "d:\\dev\\anaconda3\\envs\\py39_qiskit045\\lib\\site-packages\\qiskit\\visualization\\circuit\\matplotlib.py:266: FutureWarning: The default matplotlib drawer scheme will be changed to \"iqp\" in a following release. To silence this warning, specify the current default explicitly as style=\"clifford\", or the new default as style=\"iqp\".\n",
      "  self._style, def_font_ratio = load_style(self._style)\n"
     ]
    },
    {
     "data": {
      "image/png": "[encoded data removed]",
      "text/plain": [
       "<Figure size 789.163x785.944 with 1 Axes>"
      ]
     },
     "execution_count": 5,
     "metadata": {},
     "output_type": "execute_result"
    }
   ],
   "source": [
    "circ.draw(output='mpl', justify='none')"
   ]
  },
  {
   "cell_type": "code",
   "execution_count": null,
   "metadata": {},
   "outputs": [],
   "source": []
  }
 ],
 "metadata": {
  "kernelspec": {
   "display_name": "py39_qiskit045",
   "language": "python",
   "name": "python3"
  },
  "language_info": {
   "codemirror_mode": {
    "name": "ipython",
    "version": 3
   },
   "file_extension": ".py",
   "mimetype": "text/x-python",
   "name": "python",
   "nbconvert_exporter": "python",
   "pygments_lexer": "ipython3",
   "version": "3.9.20"
  }
 },
 "nbformat": 4,
 "nbformat_minor": 2
}
